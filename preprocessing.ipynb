{
 "cells": [
  {
   "cell_type": "code",
   "execution_count": null,
   "metadata": {},
   "outputs": [],
   "source": [
    "import warnings\n",
    "warnings.filterwarnings(\"ignore\")\n",
    "import pandas as pd\n",
    "import os"
   ]
  },
  {
   "cell_type": "code",
   "execution_count": null,
   "metadata": {},
   "outputs": [],
   "source": [
    "curret_path = os.getcwd()\n",
    "ml1m_path = f'data/ml1m'"
   ]
  },
  {
   "cell_type": "code",
   "execution_count": null,
   "metadata": {},
   "outputs": [],
   "source": [
    "ml1m_users_df = pd.read_csv(f'{ml1m_path}/users.dat', sep=\"::\", names=[\"UserID\",\"Gender\",\"Age\",\"Occupation\",\"Zip-code\"], header=None)\n",
    "display(ml1m_users_df.head(5))\n",
    "print(f\"Unique Users: {len(ml1m_users_df)}\")"
   ]
  },
  {
   "cell_type": "code",
   "execution_count": null,
   "metadata": {},
   "outputs": [],
   "source": [
    "ml1m_movies_df = pd.read_csv(f'{ml1m_path}/movies.dat', sep=\"::\", names=[\"movie_id\", \"movie_name\", \"genre\"], header=None, encoding='latin-1')\n",
    "display(ml1m_movies_df.head(5))\n",
    "print(f\"Unique Products: {len(ml1m_movies_df)}\")"
   ]
  },
  {
   "cell_type": "code",
   "execution_count": null,
   "metadata": {},
   "outputs": [],
   "source": [
    "ml1m_ratings_df = pd.read_csv(f'{ml1m_path}/ratings.dat', sep=\"::\", names=[\"user_id\", \"movie_id\", \"rating\", \"timestamp\"], header=None)\n",
    "display(ml1m_ratings_df.head(5))\n",
    "print(f\"Unique interactions: {len(ml1m_ratings_df)}\")"
   ]
  },
  {
   "cell_type": "code",
   "execution_count": null,
   "metadata": {},
   "outputs": [],
   "source": [
    "entities_df = pd.read_csv(f'{ml1m_path}/kg/e_map.dat', sep=\"\\t\", names=[\"entity_id\", \"entity_url\"])\n",
    "entities_df.head(5)"
   ]
  },
  {
   "cell_type": "code",
   "execution_count": null,
   "metadata": {},
   "outputs": [],
   "source": [
    "movies_to_kg_df = pd.read_csv(f'{ml1m_path}/kg/i2kg_map.tsv', sep=\"\\t\", names=[\"dataset_id\", \"movie_name\", \"entity_url\"])"
   ]
  },
  {
   "cell_type": "code",
   "execution_count": null,
   "metadata": {},
   "outputs": [],
   "source": [
    "display(movies_to_kg_df.head(5))\n",
    "print(f\"Items mapped in the KG: {movies_to_kg_df.shape[0]}\")"
   ]
  },
  {
   "cell_type": "code",
   "execution_count": null,
   "metadata": {},
   "outputs": [],
   "source": [
    "kg_df = pd.read_csv(f'{ml1m_path}/kg/kg.dat', sep=\"\\t\")\n",
    "display(kg_df.head(5))\n",
    "print(f\"Number of triplets: {kg_df.shape[0]}\")"
   ]
  },
  {
   "cell_type": "code",
   "execution_count": null,
   "metadata": {},
   "outputs": [],
   "source": [
    "relations_df = pd.read_csv(f'{ml1m_path}/kg/r_map.dat', sep=\"\\t\", names=[\"relation_id\", \"relation_url\"])\n",
    "relations_df"
   ]
  },
  {
   "cell_type": "code",
   "execution_count": null,
   "metadata": {},
   "outputs": [],
   "source": [
    "print(f\"Items in the original dataset: {ml1m_movies_df.shape[0]}\")\n",
    "print(f\"Items correctly mapped in the KG: {movies_to_kg_df.shape[0]}\")"
   ]
  },
  {
   "cell_type": "code",
   "execution_count": null,
   "metadata": {},
   "outputs": [],
   "source": [
    "number_of_movies = ml1m_movies_df.shape[0]\n",
    "ml1m_movies_df = ml1m_movies_df[ml1m_movies_df['movie_id'].isin(movies_to_kg_df.dataset_id)]\n",
    "ml1m_movies_df.reset_index()\n",
    "display(ml1m_movies_df.head(5))\n",
    "print(f\"Number of rows removed due to missing links with KG: {number_of_movies - ml1m_movies_df.shape[0]}\")"
   ]
  },
  {
   "cell_type": "code",
   "execution_count": null,
   "metadata": {},
   "outputs": [],
   "source": [
    "movies_to_kg_df = pd.merge(movies_to_kg_df, entities_df, on=[\"entity_url\"])\n",
    "display(movies_to_kg_df.head(5))\n",
    "print(f\"Correctly mapped items: {movies_to_kg_df.shape[0]}\")"
   ]
  },
  {
   "cell_type": "code",
   "execution_count": null,
   "metadata": {},
   "outputs": [],
   "source": [
    "print(f\"Movies before: {ml1m_movies_df.shape[0]}\")\n",
    "movies_to_kg_df = movies_to_kg_df[movies_to_kg_df.entity_id.isin(entities_df.entity_id)]\n",
    "print(f\"Number of rows removed due to missing entity data in KG: {movies_to_kg_df.shape[0]}\")"
   ]
  },
  {
   "cell_type": "code",
   "execution_count": null,
   "metadata": {},
   "outputs": [],
   "source": [
    "number_of_ratings = ml1m_ratings_df.shape[0]\n",
    "ml1m_ratings_df = ml1m_ratings_df[ml1m_ratings_df['movie_id'].isin(movies_to_kg_df.dataset_id)]\n",
    "ml1m_ratings_df.reset_index()\n",
    "display(ml1m_ratings_df.head(5))\n",
    "print(f\"Number of rows removed due to interaction with removed movie: {number_of_ratings - ml1m_ratings_df.shape[0]}\")"
   ]
  },
  {
   "cell_type": "code",
   "execution_count": null,
   "metadata": {},
   "outputs": [],
   "source": [
    "counts_col_user = ml1m_ratings_df.groupby(\"user_id\")[\"user_id\"].transform(len)\n",
    "counts_col_movies = ml1m_ratings_df.groupby(\"movie_id\")[\"movie_id\"].transform(len)\n",
    "counts_col_user.head(5)"
   ]
  },
  {
   "cell_type": "code",
   "execution_count": null,
   "metadata": {},
   "outputs": [],
   "source": [
    "k_user, k_movie = 5, 5\n",
    "mask_user = counts_col_user >= k_user\n",
    "mask_movies = counts_col_movies >= k_movie\n",
    "mask_user.head(5)"
   ]
  },
  {
   "cell_type": "code",
   "execution_count": null,
   "metadata": {},
   "outputs": [],
   "source": [
    "print(f\"Number of ratings before: {ml1m_ratings_df.shape[0]}\")\n",
    "ml1m_ratings_df = ml1m_ratings_df[mask_user & mask_movies]\n",
    "print(f\"Number of ratings after: {ml1m_ratings_df.shape[0]}\")\n",
    "ml1m_ratings_df.head(5)"
   ]
  },
  {
   "cell_type": "code",
   "execution_count": null,
   "metadata": {},
   "outputs": [],
   "source": [
    "print(f\"Number of users before threshold discarding (k={k_user}): {ml1m_users_df.shape[0]}\")\n",
    "ml1m_users_df = ml1m_users_df[ml1m_users_df.UserID.isin(ml1m_ratings_df.user_id.unique())]\n",
    "print(f\"Number of users after threshold discarding (k={k_user}): {ml1m_users_df.shape[0]}\")"
   ]
  },
  {
   "cell_type": "code",
   "execution_count": null,
   "metadata": {},
   "outputs": [],
   "source": [
    "print(f\"Number of items before threshold discarding (k={k_movie}): {ml1m_movies_df.shape[0]}\")\n",
    "ml1m_movies_df = ml1m_movies_df[ml1m_movies_df.movie_id.isin(ml1m_ratings_df.movie_id.unique())]\n",
    "print(f\"Number of items after threshold discarding (k={k_movie}): {ml1m_movies_df.shape[0]}\")"
   ]
  },
  {
   "cell_type": "code",
   "execution_count": null,
   "metadata": {},
   "outputs": [],
   "source": [
    "from knowledge_graph_utils import propagate_item_removal_to_kg\n",
    "movies_to_kg_df, entities_df, kg_df = propagate_item_removal_to_kg(ml1m_movies_df, movies_to_kg_df, entities_df, kg_df)"
   ]
  },
  {
   "cell_type": "code",
   "execution_count": null,
   "metadata": {},
   "outputs": [],
   "source": [
    "ml1m_preprocessed_path = 'data/ml1m/preprocessed'"
   ]
  },
  {
   "cell_type": "code",
   "execution_count": null,
   "metadata": {},
   "outputs": [],
   "source": [
    "ml1m_users_df = ml1m_users_df.drop([\"Gender\", \"Age\", \"Occupation\", \"Zip-code\"], axis=1)\n",
    "ml1m_users_df.head(5)"
   ]
  },
  {
   "cell_type": "code",
   "execution_count": null,
   "metadata": {},
   "outputs": [],
   "source": [
    "ml1m_users_df.insert(0, 'new_id', range(ml1m_users_df.shape[0])) #Create a new incremental ID\n",
    "ml1m_users_df.head(5)"
   ]
  },
  {
   "cell_type": "code",
   "execution_count": null,
   "metadata": {},
   "outputs": [],
   "source": [
    "ml1m_users_df.to_csv(f'{ml1m_preprocessed_path}/users.txt', header=[\"new_id\", \"raw_dataset_id\"], index=False, sep='\\t', mode='w+')"
   ]
  },
  {
   "cell_type": "code",
   "execution_count": null,
   "metadata": {},
   "outputs": [],
   "source": [
    "user_id2new_id = dict(zip(ml1m_users_df[\"UserID\"], ml1m_users_df.new_id))"
   ]
  },
  {
   "cell_type": "code",
   "execution_count": null,
   "metadata": {},
   "outputs": [],
   "source": [
    "#Drop attributes\n",
    "ml1m_movies_df = ml1m_movies_df.drop([\"movie_name\", \"genre\"], axis=1)\n",
    "#Add new_id column\n",
    "ml1m_movies_df.insert(0, 'new_id', range(ml1m_movies_df.shape[0])) #Create a new incremental ID\n",
    "#Print\n",
    "display(ml1m_movies_df.head(5))\n",
    "print(ml1m_movies_df.shape[0])\n",
    "#Save\n",
    "ml1m_movies_df.to_csv(f'{ml1m_preprocessed_path}/products.txt', header=[\"new_id\", \"raw_dataset_id\"], index=False, sep='\\t', mode='w+')"
   ]
  },
  {
   "cell_type": "code",
   "execution_count": null,
   "metadata": {},
   "outputs": [],
   "source": [
    "movie_id2new_id = dict(zip(ml1m_movies_df[\"movie_id\"], ml1m_movies_df.new_id))"
   ]
  },
  {
   "cell_type": "code",
   "execution_count": null,
   "metadata": {},
   "outputs": [],
   "source": [
    "ml1m_ratings_df[\"user_id\"] = ml1m_ratings_df['user_id'].map(user_id2new_id)\n",
    "ml1m_ratings_df[\"movie_id\"] = ml1m_ratings_df['movie_id'].map(movie_id2new_id)\n",
    "ml1m_ratings_df.head(5)"
   ]
  },
  {
   "cell_type": "code",
   "execution_count": null,
   "metadata": {},
   "outputs": [],
   "source": [
    "#Save ratings\n",
    "ml1m_ratings_df.to_csv(f'{ml1m_preprocessed_path}/ratings.txt', header=[\"uid\", \"pid\", \"rating\", \"timestamp\"], index=False, sep='\\t', mode='w+')"
   ]
  },
  {
   "cell_type": "code",
   "execution_count": null,
   "metadata": {},
   "outputs": [],
   "source": [
    "display(movies_to_kg_df.head(5))\n",
    "print(f\"Number of movies correctly mapped: {movies_to_kg_df.shape[0]}\")"
   ]
  },
  {
   "cell_type": "code",
   "execution_count": null,
   "metadata": {},
   "outputs": [],
   "source": [
    "mask = kg_df['entity_tail'].isin(movies_to_kg_df.entity_id) \\\n",
    "        & ~kg_df['entity_head'].isin(movies_to_kg_df.entity_id)\n",
    "kg_df.loc[mask, ['entity_head', 'entity_tail']] = \\\n",
    "    (kg_df.loc[mask, ['entity_tail', 'entity_head']].values)"
   ]
  },
  {
   "cell_type": "code",
   "execution_count": null,
   "metadata": {},
   "outputs": [],
   "source": [
    "n_of_triplets = kg_df.shape[0]\n",
    "kg_df = kg_df[(kg_df['entity_head'].isin(movies_to_kg_df.entity_id) & ~kg_df['entity_tail'].isin(movies_to_kg_df.entity_id))]\n",
    "display(kg_df.head(5))\n",
    "print(f\"Number of triplets before: {n_of_triplets}\")\n",
    "print(f\"Number of triplets after: {kg_df.shape[0]}\")"
   ]
  },
  {
   "cell_type": "code",
   "execution_count": null,
   "metadata": {},
   "outputs": [],
   "source": [
    "len(kg_df.relation.unique())"
   ]
  },
  {
   "cell_type": "code",
   "execution_count": null,
   "metadata": {},
   "outputs": [],
   "source": [
    "v = kg_df[['relation']]\n",
    "n_of_triplets = kg_df.shape[0]\n",
    "kg_df = kg_df[v.replace(v.apply(pd.Series.value_counts)).gt(300).all(1)]\n",
    "display(kg_df.head(5))\n",
    "print(f\"Number of triplets before: {n_of_triplets}\")\n",
    "print(f\"Number of triplets after: {kg_df.shape[0]}\")"
   ]
  },
  {
   "cell_type": "code",
   "execution_count": null,
   "metadata": {},
   "outputs": [],
   "source": [
    "len(kg_df.relation.unique())"
   ]
  },
  {
   "cell_type": "code",
   "execution_count": null,
   "metadata": {},
   "outputs": [],
   "source": [
    "display(relations_df)\n",
    "relations_df = relations_df[relations_df['relation_id'].isin(kg_df.relation.unique())]\n",
    "relations_df.reset_index()\n",
    "relations_df"
   ]
  },
  {
   "cell_type": "code",
   "execution_count": null,
   "metadata": {},
   "outputs": [],
   "source": [
    "relations_df = relations_df[(relations_df['relation_id'] != 13) & (relations_df['relation_id'] != 8)]\n",
    "relations_df"
   ]
  },
  {
   "cell_type": "code",
   "execution_count": null,
   "metadata": {},
   "outputs": [],
   "source": [
    "print(f\"Triplets before: {kg_df.shape[0]}\")\n",
    "kg_df = kg_df[kg_df.relation.isin(relations_df.relation_id)]\n",
    "print(f\"Triplets after: {kg_df.shape[0]}\")"
   ]
  },
  {
   "cell_type": "code",
   "execution_count": null,
   "metadata": {},
   "outputs": [],
   "source": [
    "print(f\"Entities before: {entities_df.shape[0]}\")\n",
    "entities_df = entities_df[entities_df.entity_id.isin(kg_df.entity_head) | entities_df.entity_id.isin(kg_df.entity_tail)]\n",
    "print(f\"Entities after: {entities_df.shape[0]}\")"
   ]
  },
  {
   "cell_type": "code",
   "execution_count": null,
   "metadata": {},
   "outputs": [],
   "source": [
    "ml1m_kg_preprocessed_path = 'data/ml1m/preprocessed/'"
   ]
  },
  {
   "cell_type": "code",
   "execution_count": null,
   "metadata": {},
   "outputs": [],
   "source": [
    "display(relations_df)\n",
    "relations_df.to_csv(f'{ml1m_kg_preprocessed_path}/r_map.txt', header=[\"relation_id\", \"relation_url\"], index=False, sep='\\t', mode='w+')"
   ]
  },
  {
   "cell_type": "code",
   "execution_count": null,
   "metadata": {},
   "outputs": [],
   "source": [
    "display(entities_df.head(5))\n",
    "entities_df.to_csv(f'{ml1m_kg_preprocessed_path}/e_map.txt', header=[\"entity_id\", \"entity_url\"], index=False, sep='\\t', mode='w+')"
   ]
  },
  {
   "cell_type": "code",
   "execution_count": null,
   "metadata": {},
   "outputs": [],
   "source": [
    "display(movies_to_kg_df.head(5))\n",
    "movies_to_kg_df.to_csv(f'{ml1m_kg_preprocessed_path}/i2kg_map.txt', header=[\"dataset_id\", \"movie_name\", 'entity_url', 'entity_id'], index=False, sep='\\t', mode='w+')"
   ]
  },
  {
   "cell_type": "code",
   "execution_count": null,
   "metadata": {},
   "outputs": [],
   "source": [
    "display(kg_df.head(5))\n",
    "kg_df.to_csv(f'{ml1m_kg_preprocessed_path}/kg_final.txt', header=[\"entity_head\", \"entity_tail\", 'relation'], index=False, sep='\\t', mode='w+')"
   ]
  }
 ],
 "metadata": {
  "language_info": {
   "name": "python"
  },
  "orig_nbformat": 4
 },
 "nbformat": 4,
 "nbformat_minor": 2
}
