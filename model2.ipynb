{
 "cells": [
  {
   "cell_type": "code",
   "execution_count": 2,
   "metadata": {},
   "outputs": [],
   "source": [
    "import pandas as pd\n",
    "from surprise import Reader, Dataset, SVD\n",
    "from surprise.model_selection import cross_validate\n",
    "import os"
   ]
  },
  {
   "cell_type": "code",
   "execution_count": 3,
   "metadata": {},
   "outputs": [],
   "source": [
    "path = os.getcwd() + '/ml1m/'"
   ]
  },
  {
   "cell_type": "code",
   "execution_count": 4,
   "metadata": {},
   "outputs": [
    {
     "data": {
      "text/plain": [
       "<bound method NDFrame.head of          uid   pid  rating  timestamp\n",
       "0          0   872       5  978300760\n",
       "1          0   537       3  978302109\n",
       "2          0   679       3  978301968\n",
       "3          0  2606       4  978300275\n",
       "4          0  1790       5  978824291\n",
       "...      ...   ...     ...        ...\n",
       "940958  6039   810       1  956716541\n",
       "940959  6039   813       5  956704887\n",
       "940960  6039   477       5  956704746\n",
       "940961  6039   815       4  956715648\n",
       "940962  6039   816       4  956715569\n",
       "\n",
       "[940963 rows x 4 columns]>"
      ]
     },
     "execution_count": 4,
     "metadata": {},
     "output_type": "execute_result"
    }
   ],
   "source": [
    "data = pd.read_csv(f'{path}preprocessed/ratings.txt', sep='\\t')\n",
    "data.head\n"
   ]
  },
  {
   "cell_type": "code",
   "execution_count": 5,
   "metadata": {},
   "outputs": [],
   "source": [
    "reader = Reader(rating_scale=(1, 5))\n",
    "data = Dataset.load_from_df(data[['uid', 'pid', 'rating']], reader)"
   ]
  },
  {
   "cell_type": "code",
   "execution_count": 6,
   "metadata": {},
   "outputs": [
    {
     "name": "stdout",
     "output_type": "stream",
     "text": [
      "Evaluating RMSE, MAE of algorithm SVD on 5 split(s).\n",
      "\n",
      "                  Fold 1  Fold 2  Fold 3  Fold 4  Fold 5  Mean    Std     \n",
      "RMSE (testset)    0.8713  0.8734  0.8739  0.8724  0.8755  0.8733  0.0014  \n",
      "MAE (testset)     0.6842  0.6868  0.6861  0.6850  0.6875  0.6859  0.0012  \n",
      "Fit time          7.80    7.96    7.92    7.89    7.94    7.90    0.05    \n",
      "Test time         1.70    1.85    1.42    1.82    1.61    1.68    0.16    \n"
     ]
    },
    {
     "data": {
      "text/plain": [
       "{'test_rmse': array([0.87129792, 0.87340064, 0.87386588, 0.87241409, 0.87548825]),\n",
       " 'test_mae': array([0.68422412, 0.68677415, 0.68614374, 0.6850384 , 0.68746227]),\n",
       " 'fit_time': (7.803056955337524,\n",
       "  7.961819887161255,\n",
       "  7.924058198928833,\n",
       "  7.892982006072998,\n",
       "  7.935588121414185),\n",
       " 'test_time': (1.698958158493042,\n",
       "  1.8501250743865967,\n",
       "  1.416917085647583,\n",
       "  1.8243739604949951,\n",
       "  1.614806890487671)}"
      ]
     },
     "execution_count": 6,
     "metadata": {},
     "output_type": "execute_result"
    }
   ],
   "source": [
    "algo = SVD()\n",
    "cross_validate(algo, data, measures=['RMSE', 'MAE'], cv=5, verbose=True)"
   ]
  },
  {
   "cell_type": "code",
   "execution_count": 7,
   "metadata": {},
   "outputs": [
    {
     "data": {
      "text/plain": [
       "<surprise.prediction_algorithms.matrix_factorization.SVD at 0x12cc569b0>"
      ]
     },
     "execution_count": 7,
     "metadata": {},
     "output_type": "execute_result"
    }
   ],
   "source": [
    "trainset = data.build_full_trainset()\n",
    "algo.fit(trainset)"
   ]
  },
  {
   "cell_type": "code",
   "execution_count": 8,
   "metadata": {},
   "outputs": [],
   "source": [
    "movie_ids = data.df['pid'].unique()"
   ]
  },
  {
   "cell_type": "code",
   "execution_count": 9,
   "metadata": {},
   "outputs": [],
   "source": [
    "def get_top_recommendations(user_id, num_recommendations=10):\n",
    "    predictions = []\n",
    "    for movie_id in movie_ids:\n",
    "        predictions.append((movie_id, algo.predict(user_id, movie_id).est))\n",
    "\n",
    "    predictions.sort(key=lambda x: x[1], reverse=True)\n",
    "\n",
    "    top_recommendations = [x[0] for x in predictions[:num_recommendations]]\n",
    "    return top_recommendations"
   ]
  },
  {
   "cell_type": "code",
   "execution_count": 10,
   "metadata": {},
   "outputs": [
    {
     "data": {
      "text/plain": [
       "[665, 2402, 2236, 2533, 840, 2626, 842, 2329, 714, 859]"
      ]
     },
     "execution_count": 10,
     "metadata": {},
     "output_type": "execute_result"
    }
   ],
   "source": [
    "top_movies = get_top_recommendations(46, num_recommendations=10)\n",
    "top_movies"
   ]
  }
 ],
 "metadata": {
  "kernelspec": {
   "display_name": "Python 3",
   "language": "python",
   "name": "python3"
  },
  "language_info": {
   "codemirror_mode": {
    "name": "ipython",
    "version": 3
   },
   "file_extension": ".py",
   "mimetype": "text/x-python",
   "name": "python",
   "nbconvert_exporter": "python",
   "pygments_lexer": "ipython3",
   "version": "3.10.4"
  },
  "orig_nbformat": 4
 },
 "nbformat": 4,
 "nbformat_minor": 2
}
